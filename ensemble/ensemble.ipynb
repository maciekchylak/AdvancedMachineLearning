{
 "cells": [
  {
   "cell_type": "code",
   "execution_count": 59,
   "metadata": {},
   "outputs": [],
   "source": [
    "import numpy as np\n",
    "import pandas as pd\n",
    "import seaborn as sns\n",
    "from sklearn.model_selection import train_test_split\n",
    "from sklearn.tree import DecisionTreeClassifier"
   ]
  },
  {
   "cell_type": "code",
   "execution_count": 125,
   "metadata": {},
   "outputs": [
    {
     "data": {
      "text/plain": [
       "[[DecisionTreeClassifier(max_depth=4), 0.6233766233766234],\n",
       " [DecisionTreeClassifier(max_depth=4), 0.6485510781539663],\n",
       " [DecisionTreeClassifier(max_depth=4), 0.6470709334379222],\n",
       " [DecisionTreeClassifier(max_depth=4), 0.613922459739718],\n",
       " [DecisionTreeClassifier(max_depth=4), 0.6113204016556619],\n",
       " [DecisionTreeClassifier(max_depth=4), 0.7221995684948358],\n",
       " [DecisionTreeClassifier(max_depth=4), 0.7051759083723045],\n",
       " [DecisionTreeClassifier(max_depth=4), 0.7397272584639196],\n",
       " [DecisionTreeClassifier(max_depth=4), 0.6524450736494002],\n",
       " [DecisionTreeClassifier(max_depth=4), 0.707511329951186]]"
      ]
     },
     "execution_count": 125,
     "metadata": {},
     "output_type": "execute_result"
    }
   ],
   "source": [
    "class AdaBoost:\n",
    "    def __init__(\n",
    "        self, B, \n",
    "        params = {\n",
    "            \"max_depth\": 4,\n",
    "        }\n",
    "    ):\n",
    "        self.B = B\n",
    "        self.params = params\n",
    "\n",
    "        self.ensemble = []\n",
    "\n",
    "    def fit(self, X, y):\n",
    "        weights = np.full(X.shape[0], 1 / X.shape[0])\n",
    "\n",
    "        for _ in range(self.B):\n",
    "            dtc = DecisionTreeClassifier(\n",
    "                max_depth=self.params[\"max_depth\"]\n",
    "            )\n",
    "            dtc.fit(X, y, sample_weight=weights)\n",
    "            y_pred = dtc.predict(X)\n",
    "\n",
    "            eps = np.sum(np.where(y_pred != y, 1, 0) * weights)\n",
    "            beta = eps / (1 - eps)\n",
    "\n",
    "            self.ensemble.append([dtc, beta])\n",
    "            weights[y_pred == y] = weights[y_pred == y] * beta\n",
    "            \n",
    "            if (weights_sum := np.sum(weights)) != 0:\n",
    "                weights /= weights_sum      \n",
    "            else:\n",
    "                break\n",
    "\n",
    "    def predict(self, X):\n",
    "        for tree in self.ensemble:\n",
    "            y_pred = tree[0].predict(X)\n",
    "\n",
    "\n",
    "# Test\n",
    "n_train = 2000\n",
    "n_test = 10000\n",
    "\n",
    "X_train = np.random.normal(0, 1, (n_train, 10))\n",
    "chi_train = np.random.chisquare(10, n_train)\n",
    "X_train_power = np.sum(X_train ** 2, axis=1)\n",
    "y_train = np.where(X_train_power > chi_train, 1, -1)\n",
    "\n",
    "X_test = np.random.normal(0, 1, (n_test, 10))\n",
    "chi_test = np.random.chisquare(10, n_test)\n",
    "X_test_power = np.sum(X_test ** 2, axis=1)\n",
    "y_test = np.where(X_test_power > chi_test, 1, -1)\n",
    "\n",
    "ada = AdaBoost(B=10)\n",
    "ada.fit(X_train, y_train)\n",
    "ada.ensemble"
   ]
  }
 ],
 "metadata": {
  "kernelspec": {
   "display_name": "base",
   "language": "python",
   "name": "python3"
  },
  "language_info": {
   "codemirror_mode": {
    "name": "ipython",
    "version": 3
   },
   "file_extension": ".py",
   "mimetype": "text/x-python",
   "name": "python",
   "nbconvert_exporter": "python",
   "pygments_lexer": "ipython3",
   "version": "3.9.7"
  },
  "orig_nbformat": 4
 },
 "nbformat": 4,
 "nbformat_minor": 2
}
